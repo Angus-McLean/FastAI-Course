{
 "cells": [
  {
   "cell_type": "markdown",
   "metadata": {},
   "source": [
    "# Preliminary Stuff"
   ]
  },
  {
   "cell_type": "markdown",
   "metadata": {},
   "source": [
    "## Overview"
   ]
  },
  {
   "cell_type": "markdown",
   "metadata": {},
   "source": [
    "Make the world a safer place by identifying distracted drivers ✌\n",
    "- Using VGG16 pretrained network\n",
    "- Data set : https://www.kaggle.com/c/state-farm-distracted-driver-detection"
   ]
  },
  {
   "cell_type": "markdown",
   "metadata": {},
   "source": [
    "## Prerequisites"
   ]
  },
  {
   "cell_type": "markdown",
   "metadata": {},
   "source": [
    "### Download + Unzip Data"
   ]
  },
  {
   "cell_type": "markdown",
   "metadata": {},
   "source": [
    "- StateFarm Data Set : https://www.kaggle.com/c/state-farm-distracted-driver-detection\n",
    "- Place unzipped contents in ./data/ folder relative to this notebook's current folder"
   ]
  },
  {
   "cell_type": "markdown",
   "metadata": {},
   "source": [
    "### Copy a small sample of the data for testing"
   ]
  },
  {
   "cell_type": "markdown",
   "metadata": {},
   "source": [
    "Copy first 10 images from each category to a sample folder with same structure"
   ]
  },
  {
   "cell_type": "code",
   "execution_count": 19,
   "metadata": {},
   "outputs": [
    {
     "ename": "IndentationError",
     "evalue": "expected an indented block (<ipython-input-19-42a1b955dd0f>, line 24)",
     "output_type": "error",
     "traceback": [
      "\u001b[1;36m  File \u001b[1;32m\"<ipython-input-19-42a1b955dd0f>\"\u001b[1;36m, line \u001b[1;32m24\u001b[0m\n\u001b[1;33m    copyNumFiles(testRoot, sampleRoot+'test/', numFiles)\u001b[0m\n\u001b[1;37m               ^\u001b[0m\n\u001b[1;31mIndentationError\u001b[0m\u001b[1;31m:\u001b[0m expected an indented block\n"
     ]
    }
   ],
   "source": [
    "import shutil\n",
    "import os\n",
    "\n",
    "trainRoot, testRoot, sampleRoot = 'data/train/', 'data/test/', 'data/sample/'\n",
    "numFiles = 10\n",
    "\n",
    "def copyNumFiles(srcFolder, destFolder, numFiles):\n",
    "    files = os.listdir(srcFolder)\n",
    "    for file in files[0:numFiles]:\n",
    "        src = srcFolder+'/'+file\n",
    "        dest = destFolder+'/'+file\n",
    "        \n",
    "        if not(os.path.isdir(destFolder)):\n",
    "            os.makedirs(destFolder)\n",
    "        \n",
    "        shutil.copy2(src, dest)\n",
    "        print(src, ' -> ', dest)\n",
    "\n",
    "# Copy Training Data\n",
    "trainFolders = os.listdir(trainRoot)\n",
    "for cur in trainFolders:\n",
    "    copyNumFiles(trainRoot + cur, sampleRoot+'train/'+cur, numFiles)\n",
    "\n",
    "copyNumFiles(testRoot, sampleRoot+'test/', numFiles)"
   ]
  },
  {
   "cell_type": "markdown",
   "metadata": {},
   "source": [
    "Allows plots to be displayed right in the jupyter notebook"
   ]
  },
  {
   "cell_type": "code",
   "execution_count": 1,
   "metadata": {
    "collapsed": true
   },
   "outputs": [],
   "source": [
    "%matplotlib inline"
   ]
  },
  {
   "cell_type": "markdown",
   "metadata": {},
   "source": [
    "Use path variable to easily switch between sub-sample (for speed) and full dataset"
   ]
  },
  {
   "cell_type": "code",
   "execution_count": null,
   "metadata": {
    "collapsed": true
   },
   "outputs": [],
   "source": [
    "path = 'data/sample'"
   ]
  }
 ],
 "metadata": {
  "kernelspec": {
   "display_name": "Python 3",
   "language": "python",
   "name": "python3"
  },
  "language_info": {
   "codemirror_mode": {
    "name": "ipython",
    "version": 3
   },
   "file_extension": ".py",
   "mimetype": "text/x-python",
   "name": "python",
   "nbconvert_exporter": "python",
   "pygments_lexer": "ipython3",
   "version": "3.6.3"
  }
 },
 "nbformat": 4,
 "nbformat_minor": 2
}
